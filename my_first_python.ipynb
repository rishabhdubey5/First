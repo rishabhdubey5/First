{
 "cells": [
  {
   "cell_type": "markdown",
   "metadata": {},
   "source": [
    "num1=5\n",
    "num2 = 10\n",
    "print('addition', num1+num2)"
   ]
  },
  {
   "cell_type": "code",
   "execution_count": null,
   "metadata": {},
   "outputs": [],
   "source": []
  },
  {
   "cell_type": "code",
   "execution_count": 1,
   "metadata": {},
   "outputs": [
    {
     "name": "stdout",
     "output_type": "stream",
     "text": [
      "num1+num2 15\n"
     ]
    }
   ],
   "source": [
    "\n",
    "num1= 5\n",
    "num2=10\n",
    "print('num1+num2',num1+num2)"
   ]
  },
  {
   "cell_type": "code",
   "execution_count": 2,
   "metadata": {},
   "outputs": [
    {
     "name": "stdout",
     "output_type": "stream",
     "text": [
      "3^4= 81\n",
      "50 % 8= 2\n",
      "22//7= 3\n"
     ]
    }
   ],
   "source": [
    "print('3^4=',3**4)\n",
    "print('50 % 8=',50%8)\n",
    "print('22//7=',22//7)"
   ]
  },
  {
   "cell_type": "code",
   "execution_count": 3,
   "metadata": {},
   "outputs": [
    {
     "name": "stdout",
     "output_type": "stream",
     "text": [
      "25\n"
     ]
    }
   ],
   "source": [
    "#assignmnt operator\n",
    "\n",
    "num3 = num1 + num2\n",
    "num3+=num2\n",
    "print(num3)"
   ]
  },
  {
   "cell_type": "code",
   "execution_count": 4,
   "metadata": {},
   "outputs": [
    {
     "name": "stdout",
     "output_type": "stream",
     "text": [
      "is num1 > num2 False\n",
      "is num1 < num2 True\n",
      "is num1 == num2 False\n",
      "is num1 != num2 True\n"
     ]
    }
   ],
   "source": [
    "#comparision oprator\n",
    "\n",
    "print('is num1 > num2',num1>num2)\n",
    "print('is num1 < num2',num1<num2)\n",
    "print('is num1 == num2',num1==num2)\n",
    "print('is num1 != num2',num1!=num2)\n"
   ]
  },
  {
   "cell_type": "code",
   "execution_count": 5,
   "metadata": {},
   "outputs": [
    {
     "name": "stdout",
     "output_type": "stream",
     "text": [
      "False\n",
      "True\n",
      "False\n"
     ]
    }
   ],
   "source": [
    "#logical\n",
    "\n",
    "x=True\n",
    "y=False\n",
    "\n",
    "print( x and y)\n",
    "print(x or y)\n",
    "print(not x)"
   ]
  },
  {
   "cell_type": "code",
   "execution_count": 8,
   "metadata": {},
   "outputs": [
    {
     "name": "stdout",
     "output_type": "stream",
     "text": [
      "11\n",
      "0\n",
      "11\n",
      "2\n",
      "32\n"
     ]
    }
   ],
   "source": [
    "#bitwise operator\n",
    "\n",
    "num4 = 8\n",
    "num5 = 3\n",
    "\n",
    "print(num4 | num5)\n",
    "print(num4 & num5)\n",
    "print(num4 ^ num5)\n",
    "print(num4 >> 2)\n",
    "print(num4 << 2)"
   ]
  },
  {
   "cell_type": "code",
   "execution_count": 11,
   "metadata": {},
   "outputs": [
    {
     "name": "stdout",
     "output_type": "stream",
     "text": [
      "['delhi', 'pune', 'varansi', 'vizag', 'hydrabad', 'mumbai']\n"
     ]
    }
   ],
   "source": [
    "#list\n",
    "abc=['delhi','pune','varansi','hydrabad']\n",
    "abc.extend(['mumbai','nagpur'])\n",
    "abc.insert(3,'vizag')\n",
    "\n",
    "abc.pop()\n",
    "print(abc)"
   ]
  },
  {
   "cell_type": "code",
   "execution_count": 24,
   "metadata": {},
   "outputs": [
    {
     "name": "stdout",
     "output_type": "stream",
     "text": [
      "akash\n",
      "4\n"
     ]
    }
   ],
   "source": [
    "#dic\n",
    "\n",
    "my_d = {1:'rishabh',2:'devesh',3:'akash',4:'umesh'}\n",
    "\n",
    "print(my_d[3])\n",
    "a=len(my_d)\n",
    "my_d.keys()\n",
    "my_d.values()\n",
    "my_d.items()\n",
    "my_d.get(2)\n",
    "print(a)\n",
    "\n"
   ]
  },
  {
   "cell_type": "code",
   "execution_count": null,
   "metadata": {},
   "outputs": [],
   "source": []
  }
 ],
 "metadata": {
  "kernelspec": {
   "display_name": "Python 3",
   "language": "python",
   "name": "python3"
  },
  "language_info": {
   "codemirror_mode": {
    "name": "ipython",
    "version": 3
   },
   "file_extension": ".py",
   "mimetype": "text/x-python",
   "name": "python",
   "nbconvert_exporter": "python",
   "pygments_lexer": "ipython3",
   "version": "3.7.3"
  }
 },
 "nbformat": 4,
 "nbformat_minor": 2
}
